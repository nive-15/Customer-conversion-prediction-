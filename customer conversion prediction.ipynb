{
 "cells": [
  {
   "cell_type": "code",
   "execution_count": 1,
   "id": "c7dcdbf7",
   "metadata": {},
   "outputs": [],
   "source": [
    "import pandas as pd\n",
    "\n"
   ]
  },
  {
   "cell_type": "code",
   "execution_count": 2,
   "id": "f945393d",
   "metadata": {},
   "outputs": [
    {
     "name": "stdout",
     "output_type": "stream",
     "text": [
      "   age           job  marital education_qual call_type  day  mon  dur  \\\n",
      "0   58    management  married       tertiary   unknown    5  may  261   \n",
      "1   44    technician   single      secondary   unknown    5  may  151   \n",
      "2   33  entrepreneur  married      secondary   unknown    5  may   76   \n",
      "3   47   blue-collar  married        unknown   unknown    5  may   92   \n",
      "4   33       unknown   single        unknown   unknown    5  may  198   \n",
      "\n",
      "   num_calls prev_outcome   y  \n",
      "0          1      unknown  no  \n",
      "1          1      unknown  no  \n",
      "2          1      unknown  no  \n",
      "3          1      unknown  no  \n",
      "4          1      unknown  no  \n",
      "<class 'pandas.core.frame.DataFrame'>\n",
      "RangeIndex: 45211 entries, 0 to 45210\n",
      "Data columns (total 11 columns):\n",
      " #   Column          Non-Null Count  Dtype \n",
      "---  ------          --------------  ----- \n",
      " 0   age             45211 non-null  int64 \n",
      " 1   job             45211 non-null  object\n",
      " 2   marital         45211 non-null  object\n",
      " 3   education_qual  45211 non-null  object\n",
      " 4   call_type       45211 non-null  object\n",
      " 5   day             45211 non-null  int64 \n",
      " 6   mon             45211 non-null  object\n",
      " 7   dur             45211 non-null  int64 \n",
      " 8   num_calls       45211 non-null  int64 \n",
      " 9   prev_outcome    45211 non-null  object\n",
      " 10  y               45211 non-null  object\n",
      "dtypes: int64(4), object(7)\n",
      "memory usage: 3.8+ MB\n",
      "None\n",
      "age               0\n",
      "job               0\n",
      "marital           0\n",
      "education_qual    0\n",
      "call_type         0\n",
      "day               0\n",
      "mon               0\n",
      "dur               0\n",
      "num_calls         0\n",
      "prev_outcome      0\n",
      "y                 0\n",
      "dtype: int64\n",
      "no     39922\n",
      "yes     5289\n",
      "Name: y, dtype: int64\n"
     ]
    }
   ],
   "source": [
    "# Load the dataset\n",
    "data = pd.read_csv(\"train.csv\")\n",
    "\n"
   ]
  },
  {
   "cell_type": "code",
   "execution_count": 3,
   "id": "3078b3ec",
   "metadata": {},
   "outputs": [
    {
     "name": "stdout",
     "output_type": "stream",
     "text": [
      "   age           job  marital education_qual call_type  day  mon  dur  \\\n",
      "0   58    management  married       tertiary   unknown    5  may  261   \n",
      "1   44    technician   single      secondary   unknown    5  may  151   \n",
      "2   33  entrepreneur  married      secondary   unknown    5  may   76   \n",
      "3   47   blue-collar  married        unknown   unknown    5  may   92   \n",
      "4   33       unknown   single        unknown   unknown    5  may  198   \n",
      "\n",
      "   num_calls prev_outcome   y  \n",
      "0          1      unknown  no  \n",
      "1          1      unknown  no  \n",
      "2          1      unknown  no  \n",
      "3          1      unknown  no  \n",
      "4          1      unknown  no  \n"
     ]
    }
   ],
   "source": [
    "# Explore the first few rows of the dataset\n",
    "print(data.head())\n",
    "\n"
   ]
  },
  {
   "cell_type": "code",
   "execution_count": 4,
   "id": "5d3711ae",
   "metadata": {},
   "outputs": [
    {
     "name": "stdout",
     "output_type": "stream",
     "text": [
      "<class 'pandas.core.frame.DataFrame'>\n",
      "RangeIndex: 45211 entries, 0 to 45210\n",
      "Data columns (total 11 columns):\n",
      " #   Column          Non-Null Count  Dtype \n",
      "---  ------          --------------  ----- \n",
      " 0   age             45211 non-null  int64 \n",
      " 1   job             45211 non-null  object\n",
      " 2   marital         45211 non-null  object\n",
      " 3   education_qual  45211 non-null  object\n",
      " 4   call_type       45211 non-null  object\n",
      " 5   day             45211 non-null  int64 \n",
      " 6   mon             45211 non-null  object\n",
      " 7   dur             45211 non-null  int64 \n",
      " 8   num_calls       45211 non-null  int64 \n",
      " 9   prev_outcome    45211 non-null  object\n",
      " 10  y               45211 non-null  object\n",
      "dtypes: int64(4), object(7)\n",
      "memory usage: 3.8+ MB\n",
      "None\n"
     ]
    }
   ],
   "source": [
    "# Get information about the dataset\n",
    "print(data.info())\n",
    "\n"
   ]
  },
  {
   "cell_type": "code",
   "execution_count": 5,
   "id": "695e8222",
   "metadata": {},
   "outputs": [
    {
     "name": "stdout",
     "output_type": "stream",
     "text": [
      "age               0\n",
      "job               0\n",
      "marital           0\n",
      "education_qual    0\n",
      "call_type         0\n",
      "day               0\n",
      "mon               0\n",
      "dur               0\n",
      "num_calls         0\n",
      "prev_outcome      0\n",
      "y                 0\n",
      "dtype: int64\n"
     ]
    }
   ],
   "source": [
    "# Check for any missing values\n",
    "print(data.isnull().sum())\n",
    "\n"
   ]
  },
  {
   "cell_type": "code",
   "execution_count": 6,
   "id": "cfabee1b",
   "metadata": {},
   "outputs": [
    {
     "name": "stdout",
     "output_type": "stream",
     "text": [
      "no     39922\n",
      "yes     5289\n",
      "Name: y, dtype: int64\n"
     ]
    }
   ],
   "source": [
    "# Explore the distribution of the target variable\n",
    "print(data['y'].value_counts())\n"
   ]
  },
  {
   "cell_type": "code",
   "execution_count": 8,
   "id": "c54d8c7c",
   "metadata": {},
   "outputs": [
    {
     "name": "stdout",
     "output_type": "stream",
     "text": [
      "Index(['age', 'job', 'marital', 'education_qual', 'call_type', 'day', 'mon',\n",
      "       'dur', 'num_calls', 'prev_outcome', 'y'],\n",
      "      dtype='object')\n"
     ]
    }
   ],
   "source": [
    "# Check column names and remove leading/trailing whitespaces\n",
    "print(data.columns)\n",
    "data.columns = data.columns.str.strip()\n",
    "\n",
    "\n"
   ]
  },
  {
   "cell_type": "code",
   "execution_count": 1,
   "id": "05ed5110",
   "metadata": {},
   "outputs": [
    {
     "ename": "NameError",
     "evalue": "name 'pd' is not defined",
     "output_type": "error",
     "traceback": [
      "\u001b[1;31m---------------------------------------------------------------------------\u001b[0m",
      "\u001b[1;31mNameError\u001b[0m                                 Traceback (most recent call last)",
      "Cell \u001b[1;32mIn[1], line 2\u001b[0m\n\u001b[0;32m      1\u001b[0m \u001b[38;5;66;03m# Encode categorical variables\u001b[39;00m\n\u001b[1;32m----> 2\u001b[0m data \u001b[38;5;241m=\u001b[39m \u001b[43mpd\u001b[49m\u001b[38;5;241m.\u001b[39mget_dummies(data, columns\u001b[38;5;241m=\u001b[39m[\u001b[38;5;124m'\u001b[39m\u001b[38;5;124mjob\u001b[39m\u001b[38;5;124m'\u001b[39m, \u001b[38;5;124m'\u001b[39m\u001b[38;5;124mmarital\u001b[39m\u001b[38;5;124m'\u001b[39m, \u001b[38;5;124m'\u001b[39m\u001b[38;5;124meducation_qual\u001b[39m\u001b[38;5;124m'\u001b[39m, \u001b[38;5;124m'\u001b[39m\u001b[38;5;124mcall_type\u001b[39m\u001b[38;5;124m'\u001b[39m, \u001b[38;5;124m'\u001b[39m\u001b[38;5;124mprev_outcome\u001b[39m\u001b[38;5;124m'\u001b[39m], drop_first\u001b[38;5;241m=\u001b[39m\u001b[38;5;28;01mTrue\u001b[39;00m)\n",
      "\u001b[1;31mNameError\u001b[0m: name 'pd' is not defined"
     ]
    }
   ],
   "source": [
    "# Encode categorical variables\n",
    "data = pd.get_dummies(data, columns=['job', 'marital', 'education_qual', 'call_type', 'prev_outcome'], drop_first=True)\n"
   ]
  },
  {
   "cell_type": "code",
   "execution_count": 12,
   "id": "598729b1",
   "metadata": {},
   "outputs": [
    {
     "name": "stdout",
     "output_type": "stream",
     "text": [
      "Index(['age', 'day', 'mon', 'dur', 'num_calls', 'y', 'job_blue-collar',\n",
      "       'job_entrepreneur', 'job_housemaid', 'job_management', 'job_retired',\n",
      "       'job_self-employed', 'job_services', 'job_student', 'job_technician',\n",
      "       'job_unemployed', 'job_unknown', 'marital_married', 'marital_single',\n",
      "       'education_qual_secondary', 'education_qual_tertiary',\n",
      "       'education_qual_unknown', 'call_type_telephone', 'call_type_unknown',\n",
      "       'prev_outcome_other', 'prev_outcome_success', 'prev_outcome_unknown'],\n",
      "      dtype='object')\n",
      "The following columns are missing: ['job', 'marital', 'education_qual', 'call_type', 'prev_outcome']\n"
     ]
    }
   ],
   "source": [
    "# Check column names and remove leading/trailing whitespaces\n",
    "print(data.columns)\n",
    "data.columns = data.columns.str.strip()\n",
    "\n",
    "# Verify the existence of the specified columns\n",
    "specified_columns = ['job', 'marital', 'education_qual', 'call_type', 'prev_outcome']\n",
    "missing_columns = [col for col in specified_columns if col not in data.columns]\n",
    "\n",
    "if len(missing_columns) == 0:\n",
    "    # Encode categorical variables\n",
    "    data = pd.get_dummies(data, columns=specified_columns, drop_first=True)\n",
    "else:\n",
    "    print(f\"The following columns are missing: {missing_columns}\")\n"
   ]
  },
  {
   "cell_type": "code",
   "execution_count": null,
   "id": "9a194532",
   "metadata": {},
   "outputs": [],
   "source": []
  }
 ],
 "metadata": {
  "kernelspec": {
   "display_name": "Python 3 (ipykernel)",
   "language": "python",
   "name": "python3"
  },
  "language_info": {
   "codemirror_mode": {
    "name": "ipython",
    "version": 3
   },
   "file_extension": ".py",
   "mimetype": "text/x-python",
   "name": "python",
   "nbconvert_exporter": "python",
   "pygments_lexer": "ipython3",
   "version": "3.10.9"
  }
 },
 "nbformat": 4,
 "nbformat_minor": 5
}
